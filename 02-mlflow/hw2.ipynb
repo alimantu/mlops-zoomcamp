{
 "cells": [
  {
   "cell_type": "code",
   "execution_count": 12,
   "id": "08c2791a-6126-4776-9975-f294902d375d",
   "metadata": {},
   "outputs": [],
   "source": [
    "import mlflow\n",
    "from mlflow.entities import ViewType"
   ]
  },
  {
   "cell_type": "markdown",
   "id": "b09ae09f-a4b7-469e-93ad-53d117ce413d",
   "metadata": {},
   "source": [
    "# 2. Questions"
   ]
  },
  {
   "cell_type": "markdown",
   "id": "2be65370-c77c-4f2c-aec3-7a7f34a401b5",
   "metadata": {},
   "source": [
    "## 2.1. Q1. Install MLflow\n",
    "\n",
    "To get started with MLflow you'll need to install the MLflow Python package.\n",
    "\n",
    "For this we recommend creating a separate Python environment, for example, you can use conda environments, and then install the package there with pip or conda.\n",
    "\n",
    "Once you installed the package, run the command mlflow --version and check the output.\n",
    "\n",
    "What's the version that you have?"
   ]
  },
  {
   "cell_type": "code",
   "execution_count": 2,
   "id": "ee102e86-10d4-4d5c-bb0f-084a64c18402",
   "metadata": {},
   "outputs": [
    {
     "data": {
      "text/plain": [
       "'2.13.1'"
      ]
     },
     "execution_count": 2,
     "metadata": {},
     "output_type": "execute_result"
    }
   ],
   "source": [
    "mlflow.__version__"
   ]
  },
  {
   "cell_type": "markdown",
   "id": "2030924f-8782-46c6-855e-4378034cf52e",
   "metadata": {},
   "source": [
    "## 2.2. Q2. Download and preprocess the data\n",
    "\n",
    "We'll use the Green Taxi Trip Records dataset to predict the duration of each trip.\n",
    "\n",
    "Download the data for January, February and March 2023 in parquet format from here.\n",
    "\n",
    "Use the script `preprocess_data.py` located in the folder [homework](https://github.com/DataTalksClub/mlops-zoomcamp/tree/main/cohorts/2024/02-experiment-tracking/homework) to preprocess the data.\n",
    "\n",
    "The script will:\n",
    "\n",
    "- load the data from the folder <TAXI_DATA_FOLDER> (the folder where you have downloaded the data),\n",
    "- fit a DictVectorizer on the training set (January 2023 data),\n",
    "- save the preprocessed datasets and the DictVectorizer to disk.\n",
    "\n",
    "Your task is to download the datasets and then execute this command:\n",
    "\n",
    "`python preprocess_data.py --raw_data_path <TAXI_DATA_FOLDER> --dest_path ./output`\n",
    "\n",
    "Tip: go to `02-experiment-tracking/homework/` folder before executing the command and change the value of `<TAXI_DATA_FOLDER>` to the location where you saved the data.\n",
    "\n",
    "How many files were saved to OUTPUT_FOLDER?\n",
    "\n",
    "- 1\n",
    "- 3\n",
    "- (4)\n",
    "- 7\n"
   ]
  },
  {
   "cell_type": "code",
   "execution_count": null,
   "id": "a2c925ae-9865-4dd6-be59-1b3e58151ac9",
   "metadata": {},
   "outputs": [],
   "source": [
    "!poetry run python ../scripts/preprocess_data.py --raw_data_path ../data/ --dest_path ./output"
   ]
  },
  {
   "cell_type": "markdown",
   "id": "55785bb7-7b38-4556-90bc-20b6d357729c",
   "metadata": {},
   "source": [
    "## 2.3 Q3. Train a model with autolog\n",
    "\n",
    "We will train a RandomForestRegressor (from Scikit-Learn) on the taxi dataset.\n",
    "\n",
    "We have prepared the training script `train.py` for this exercise, which can also be found in the folder [homework](https://github.com/DataTalksClub/mlops-zoomcamp/tree/main/cohorts/2024/02-experiment-tracking/homework).\n",
    "\n",
    "The script will:\n",
    "\n",
    "- load the datasets produced by the previous step,\n",
    "- train the model on the training set,\n",
    "- calculate the RMSE score on the validation set.\n",
    "\n",
    "Your task is to modify the script to enable autologging with MLflow, execute the script and then launch the MLflow UI to check that the experiment run was properly tracked.\n",
    "\n",
    "Tip 1: don't forget to wrap the training code with a with `mlflow.start_run()`: statement as we showed in the videos.\n",
    "\n",
    "Tip 2: don't modify the hyperparameters of the model to make sure that the training will finish quickly.\n",
    "\n",
    "What is the value of the `min_samples_split` parameter:\n",
    "\n",
    "- (2)\n",
    "- 4\n",
    "- 8\n",
    "- 10\n"
   ]
  },
  {
   "cell_type": "code",
   "execution_count": 4,
   "id": "381d9e05-2e01-4ba1-946a-1f8ea975e428",
   "metadata": {},
   "outputs": [
    {
     "name": "stdout",
     "output_type": "stream",
     "text": [
      "2024/06/02 17:38:14 INFO mlflow.tracking.fluent: Experiment with name 'green-taxi-regression' does not exist. Creating a new experiment.\n",
      "/Users/Alimantu/Library/Mobile Documents/com~apple~CloudDocs/Python/mlops-zoomcamp/.venv/lib/python3.11/site-packages/sklearn/metrics/_regression.py:483: FutureWarning: 'squared' is deprecated in version 1.4 and will be removed in 1.6. To calculate the root mean squared error, use the function'root_mean_squared_error'.\n",
      "  warnings.warn(\n"
     ]
    }
   ],
   "source": [
    "!poetry run python ../scripts/train.py --tracking_uri http://127.0.0.1:5000"
   ]
  },
  {
   "cell_type": "markdown",
   "id": "490c70fb-7998-4100-98f3-74d5d0de9647",
   "metadata": {},
   "source": [
    "## 2.4. Q4. Launch the tracking server locally\n",
    "\n",
    "Now we want to manage the entire lifecycle of our ML model. In this step, you'll need to launch a tracking server. This way we will also have access to the model registry.\n",
    "\n",
    "Your task is to:\n",
    "\n",
    "- launch the tracking server on your local machine,\n",
    "- select a SQLite db for the backend store and a folder called artifacts for the artifacts store.\n",
    "\n",
    "You should keep the tracking server running to work on the next two exercises that use the server.\n",
    "\n",
    "In addition to `backend-store-uri`, what else do you need to pass to properly configure the server?\n",
    "\n",
    "- (default-artifact-root)\n",
    "- serve-artifacts\n",
    "- artifacts-only\n",
    "- artifacts-destination\n",
    "\n",
    "<font color='red'>**Note:** This answer is wrong for 2.13.1 version of the MLFlow!</font>"
   ]
  },
  {
   "cell_type": "markdown",
   "id": "83cf896f-f185-4cfb-9fd5-7d482053feea",
   "metadata": {},
   "source": [
    "## 2.5. Q5. Tune model hyperparameters\n",
    "\n",
    "Now let's try to reduce the validation error by tuning the hyperparameters of the RandomForestRegressor using hyperopt. We have prepared the script `hpo.py` for this exercise.\n",
    "\n",
    "Your task is to modify the script `hpo.py` and make sure that the validation RMSE is logged to the tracking server for each run of the hyperparameter optimization (you will need to add a few lines of code to the objective function) and run the script without passing any parameters.\n",
    "\n",
    "After that, open UI and explore the runs from the experiment called `random-forest-hyperopt` to answer the question below.\n",
    "\n",
    "<font color='red'>**Note:** Don't use autologging for this exercise.</font>\n",
    "\n",
    "The idea is to just log the information that you need to answer the question below, including:\n",
    "\n",
    "- the list of hyperparameters that are passed to the objective function during the optimization,\n",
    "- the RMSE obtained on the validation set (February 2023 data).\n",
    "\n",
    "What's the best validation RMSE that you got?\n",
    "\n",
    "- 4.817\n",
    "- (5.335)\n",
    "- 5.818\n",
    "- 6.336"
   ]
  },
  {
   "cell_type": "code",
   "execution_count": 28,
   "id": "84edc6bf-0e56-4e7b-931f-3b6d527be0bf",
   "metadata": {},
   "outputs": [
    {
     "name": "stdout",
     "output_type": "stream",
     "text": [
      "100%|██████████| 15/15 [00:28<00:00,  1.92s/trial, best loss: 5.335419588556921]\n"
     ]
    }
   ],
   "source": [
    "!poetry run python ../scripts/hpo.py"
   ]
  },
  {
   "cell_type": "code",
   "execution_count": 29,
   "id": "d7cee82b-45f0-4411-866a-bd33415e20a0",
   "metadata": {},
   "outputs": [],
   "source": [
    "mlflow.set_tracking_uri(\"http://127.0.0.1:5000\")\n",
    "\n",
    "client = mlflow.MlflowClient()"
   ]
  },
  {
   "cell_type": "code",
   "execution_count": 30,
   "id": "45f6e33d-2fc4-46a1-99e3-84861bc05e6e",
   "metadata": {},
   "outputs": [],
   "source": [
    "experiment = client.get_experiment_by_name('random-forest-hyperopt')\n",
    "best_run = client.search_runs(\n",
    "    experiment_ids=experiment.experiment_id,\n",
    "    run_view_type=ViewType.ACTIVE_ONLY,\n",
    "    max_results=5,\n",
    "    order_by=[\"metrics.rmse ASC\"]\n",
    ")[0]"
   ]
  },
  {
   "cell_type": "code",
   "execution_count": 31,
   "id": "2bf3c3f1-7db9-4b1c-8e45-a9fcdecd6ba1",
   "metadata": {},
   "outputs": [
    {
     "data": {
      "text/plain": [
       "5.335419588556921"
      ]
     },
     "execution_count": 31,
     "metadata": {},
     "output_type": "execute_result"
    }
   ],
   "source": [
    "best_run.data.metrics['rmse']"
   ]
  },
  {
   "cell_type": "markdown",
   "id": "bf54bc1b-25ab-4b45-9c21-f22d6596d448",
   "metadata": {},
   "source": [
    "## 2.6. Q6. Promote the best model to the model registry\n",
    "\n",
    "The results from the hyperparameter optimization are quite good. So, we can assume that we are ready to test some of these models in production. In this exercise, you'll promote the best model to the model registry. We have prepared a script called `register_model.py`, which will check the results from the previous step and select the top 5 runs. After that, it will calculate the RMSE of those models on the test set (March 2023 data) and save the results to a new experiment called `random-forest-best-models`.\n",
    "\n",
    "Your task is to update the script `register_model.py` so that it selects the model with the lowest RMSE on the test set and registers it to the model registry.\n",
    "\n",
    "Tip 1: you can use the method `search_runs` from the `MlflowClient` to get the model with the lowest RMSE,\n",
    "\n",
    "Tip 2: to register the model you can use the method `mlflow.register_model` and you will need to pass the right `model_uri` in the form of a string that looks like this: `\"runs:/<RUN_ID>/model\"`, and the name of the model (make sure to choose a good one!).\n",
    "\n",
    "What is the test RMSE of the best model?\n",
    "\n",
    "- 5.060\n",
    "- (5.567)\n",
    "- 6.061\n",
    "- 6.568"
   ]
  },
  {
   "cell_type": "code",
   "execution_count": 72,
   "id": "fd701e59-456f-4e7c-bca0-7f5e900caa5f",
   "metadata": {},
   "outputs": [
    {
     "name": "stdout",
     "output_type": "stream",
     "text": [
      "2024/06/02 18:48:14 WARNING mlflow.sklearn: Failed to log training dataset information to MLflow Tracking. Reason: 'numpy.ndarray' object has no attribute 'toarray'\n",
      "2024/06/02 18:48:20 WARNING mlflow.sklearn: Failed to log training dataset information to MLflow Tracking. Reason: 'numpy.ndarray' object has no attribute 'toarray'\n",
      "2024/06/02 18:48:27 WARNING mlflow.sklearn: Failed to log training dataset information to MLflow Tracking. Reason: 'numpy.ndarray' object has no attribute 'toarray'\n",
      "2024/06/02 18:48:33 WARNING mlflow.sklearn: Failed to log training dataset information to MLflow Tracking. Reason: 'numpy.ndarray' object has no attribute 'toarray'\n",
      "2024/06/02 18:48:39 WARNING mlflow.sklearn: Failed to log training dataset information to MLflow Tracking. Reason: 'numpy.ndarray' object has no attribute 'toarray'\n",
      "Successfully registered model 'hw2-best-model'.\n",
      "2024/06/02 18:48:44 INFO mlflow.store.model_registry.abstract_store: Waiting up to 300 seconds for model version to finish creation. Model name: hw2-best-model, version 1\n",
      "Created version '1' of model 'hw2-best-model'.\n"
     ]
    }
   ],
   "source": [
    "!poetry run python ../scripts/register_model.py"
   ]
  },
  {
   "cell_type": "code",
   "execution_count": 73,
   "id": "a26d0b88-e55f-43e9-8e04-ec5d8ce943d1",
   "metadata": {},
   "outputs": [],
   "source": [
    "model = client.get_registered_model('hw2-best-model')\\\n",
    "    .latest_versions[0]"
   ]
  },
  {
   "cell_type": "code",
   "execution_count": 74,
   "id": "2628ddd7-3a20-46c6-a962-30b4f2442e84",
   "metadata": {},
   "outputs": [],
   "source": [
    "run = mlflow.get_run(model.run_id)"
   ]
  },
  {
   "cell_type": "code",
   "execution_count": 76,
   "id": "f9e98eb7-269e-4951-b0ef-525cc791b7a4",
   "metadata": {},
   "outputs": [
    {
     "data": {
      "text/plain": [
       "5.567408012462019"
      ]
     },
     "execution_count": 76,
     "metadata": {},
     "output_type": "execute_result"
    }
   ],
   "source": [
    "run.data.metrics['test_rmse']"
   ]
  },
  {
   "cell_type": "code",
   "execution_count": null,
   "id": "fbaf8ce7-804e-4088-9a51-1adad6b2580a",
   "metadata": {},
   "outputs": [],
   "source": []
  }
 ],
 "metadata": {
  "kernelspec": {
   "display_name": "Python 3 (ipykernel)",
   "language": "python",
   "name": "python3"
  },
  "language_info": {
   "codemirror_mode": {
    "name": "ipython",
    "version": 3
   },
   "file_extension": ".py",
   "mimetype": "text/x-python",
   "name": "python",
   "nbconvert_exporter": "python",
   "pygments_lexer": "ipython3",
   "version": "3.11.9"
  }
 },
 "nbformat": 4,
 "nbformat_minor": 5
}
